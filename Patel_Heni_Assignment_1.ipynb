{
 "cells": [
  {
   "cell_type": "markdown",
   "id": "3903578c",
   "metadata": {},
   "source": [
    "# Assignment 1 - AIDI 1002 : Machine Learning Programming  \n",
    " "
   ]
  },
  {
   "cell_type": "markdown",
   "id": "7ab6fa84",
   "metadata": {},
   "source": [
    "## 1. Consider the dataset ‘noisy_data.csv’ and apply the following pre-processing techniques and obtain the clean dataset."
   ]
  },
  {
   "cell_type": "code",
   "execution_count": 1,
   "id": "de9befd3",
   "metadata": {},
   "outputs": [],
   "source": [
    "import pandas as pd\n",
    "import numpy as np\n",
    "import seaborn as sns"
   ]
  },
  {
   "cell_type": "code",
   "execution_count": 2,
   "id": "ca730927",
   "metadata": {},
   "outputs": [
    {
     "name": "stdout",
     "output_type": "stream",
     "text": [
      "   Region   Age   Income Online Shopper\n",
      "0   India  49.0  86400.0             No\n",
      "1  Brazil  32.0  57600.0            Yes\n",
      "2     USA  35.0  64800.0             No\n",
      "3  Brazil  43.0  73200.0             No\n",
      "4     USA  45.0      NaN            Yes\n",
      "5   India  40.0  69600.0            Yes\n",
      "6  Brazil   NaN  62400.0             No\n",
      "7   India  53.0  94800.0            Yes\n",
      "8     USA  55.0  99600.0             No\n",
      "9   India  42.0  80400.0            Yes\n"
     ]
    }
   ],
   "source": [
    "#loading data\n",
    "noisy_data = pd.read_csv('noisy_data.csv')\n",
    "print(noisy_data)"
   ]
  },
  {
   "cell_type": "code",
   "execution_count": 3,
   "id": "593ca35c",
   "metadata": {},
   "outputs": [
    {
     "data": {
      "text/plain": [
       "(10, 4)"
      ]
     },
     "execution_count": 3,
     "metadata": {},
     "output_type": "execute_result"
    }
   ],
   "source": [
    "noisy_data.shape"
   ]
  },
  {
   "cell_type": "code",
   "execution_count": 4,
   "id": "79a163b6",
   "metadata": {},
   "outputs": [
    {
     "data": {
      "text/plain": [
       "<bound method NDFrame.describe of    Region   Age   Income Online Shopper\n",
       "0   India  49.0  86400.0             No\n",
       "1  Brazil  32.0  57600.0            Yes\n",
       "2     USA  35.0  64800.0             No\n",
       "3  Brazil  43.0  73200.0             No\n",
       "4     USA  45.0      NaN            Yes\n",
       "5   India  40.0  69600.0            Yes\n",
       "6  Brazil   NaN  62400.0             No\n",
       "7   India  53.0  94800.0            Yes\n",
       "8     USA  55.0  99600.0             No\n",
       "9   India  42.0  80400.0            Yes>"
      ]
     },
     "execution_count": 4,
     "metadata": {},
     "output_type": "execute_result"
    }
   ],
   "source": [
    "noisy_data.describe"
   ]
  },
  {
   "cell_type": "markdown",
   "id": "c8f4aa20",
   "metadata": {},
   "source": [
    "### -Handling missing values by imputation"
   ]
  },
  {
   "cell_type": "code",
   "execution_count": 5,
   "id": "1c5ce782",
   "metadata": {},
   "outputs": [
    {
     "data": {
      "text/plain": [
       "Region            0\n",
       "Age               1\n",
       "Income            1\n",
       "Online Shopper    0\n",
       "dtype: int64"
      ]
     },
     "execution_count": 5,
     "metadata": {},
     "output_type": "execute_result"
    }
   ],
   "source": [
    "noisy_data.isnull().sum()"
   ]
  },
  {
   "cell_type": "code",
   "execution_count": 6,
   "id": "e87b8ed4",
   "metadata": {},
   "outputs": [
    {
     "name": "stdout",
     "output_type": "stream",
     "text": [
      "   Region        Age        Income Online Shopper\n",
      "0   India  49.000000  86400.000000             No\n",
      "1  Brazil  32.000000  57600.000000            Yes\n",
      "2     USA  35.000000  64800.000000             No\n",
      "3  Brazil  43.000000  73200.000000             No\n",
      "4     USA  45.000000  76533.333333            Yes\n",
      "5   India  40.000000  69600.000000            Yes\n",
      "6  Brazil  43.777778  62400.000000             No\n",
      "7   India  53.000000  94800.000000            Yes\n",
      "8     USA  55.000000  99600.000000             No\n",
      "9   India  42.000000  80400.000000            Yes\n"
     ]
    }
   ],
   "source": [
    "noisy_data['Age'].fillna(noisy_data['Age'].mean(), inplace = True)\n",
    "noisy_data['Income'].fillna(noisy_data['Income'].mean(), inplace = True)\n",
    "print(noisy_data)"
   ]
  },
  {
   "cell_type": "markdown",
   "id": "79c8ac52",
   "metadata": {},
   "source": [
    "### -Apply Normality tests to numerical columns and state the hypothesis clearly and comment on the normality of the data"
   ]
  },
  {
   "cell_type": "code",
   "execution_count": 7,
   "id": "8f22ad6d",
   "metadata": {},
   "outputs": [],
   "source": [
    "import scipy.stats as stats\n",
    "import matplotlib.pyplot as plt"
   ]
  },
  {
   "cell_type": "markdown",
   "id": "be09fb49",
   "metadata": {},
   "source": [
    "Here we did two tests for checking Normality test on both Age and Income columns\n",
    "1. Using QQ Plot\n",
    "2. Using Shapiro-Wilk Test"
   ]
  },
  {
   "cell_type": "markdown",
   "id": "422276cb",
   "metadata": {},
   "source": [
    "#### Using QQ PLot"
   ]
  },
  {
   "cell_type": "code",
   "execution_count": 8,
   "id": "e472e3ab",
   "metadata": {},
   "outputs": [
    {
     "data": {
      "image/png": "[encoded data removed]",
      "text/plain": [
       "<Figure size 640x480 with 1 Axes>"
      ]
     },
     "metadata": {},
     "output_type": "display_data"
    }
   ],
   "source": [
    "# Testing Age column\n",
    "\n",
    "stats.probplot(noisy_data[\"Age\"], dist='norm',plot=plt)\n",
    "plt.show()"
   ]
  },
  {
   "cell_type": "code",
   "execution_count": 9,
   "id": "7e05f0a7",
   "metadata": {},
   "outputs": [
    {
     "data": {
      "image/png": "[encoded data removed]",
      "text/plain": [
       "<Figure size 640x480 with 1 Axes>"
      ]
     },
     "metadata": {},
     "output_type": "display_data"
    }
   ],
   "source": [
    "# Testing Income column\n",
    "\n",
    "stats.probplot(noisy_data[\"Income\"], dist='norm',plot=plt)\n",
    "plt.show()"
   ]
  },
  {
   "cell_type": "markdown",
   "id": "2543f674",
   "metadata": {},
   "source": [
    "#### we can see in both the cases our data points comes in straight lines that means our data is normally distributed."
   ]
  },
  {
   "cell_type": "markdown",
   "id": "257a60d9",
   "metadata": {},
   "source": [
    "### Using Shapiro-Wilk Test"
   ]
  },
  {
   "cell_type": "code",
   "execution_count": 10,
   "id": "6c20c391",
   "metadata": {},
   "outputs": [
    {
     "name": "stdout",
     "output_type": "stream",
     "text": [
      "stat=0.971, p=0.902\n",
      "\n"
     ]
    }
   ],
   "source": [
    "# Testing Age column\n",
    "\n",
    "from scipy .stats import shapiro\n",
    "\n",
    "stat,p = shapiro(noisy_data[\"Age\"])\n",
    "print('stat=%.3f, p=%.3f\\n' % (stat,p))"
   ]
  },
  {
   "cell_type": "code",
   "execution_count": 11,
   "id": "af146534",
   "metadata": {},
   "outputs": [
    {
     "name": "stdout",
     "output_type": "stream",
     "text": [
      "stat=0.963, p=0.815\n",
      "\n"
     ]
    }
   ],
   "source": [
    "# Testing Income column\n",
    "\n",
    "from scipy .stats import shapiro\n",
    "\n",
    "stat,p = shapiro(noisy_data[\"Income\"])\n",
    "print('stat=%.3f, p=%.3f\\n' % (stat,p))"
   ]
  },
  {
   "cell_type": "markdown",
   "id": "063fe1a5",
   "metadata": {},
   "source": [
    "#### We can see our p-value is > 0.05, then we fail to reject null hypothesis. we assume the distribution of our variable is normal."
   ]
  },
  {
   "cell_type": "markdown",
   "id": "6e8a5d36",
   "metadata": {},
   "source": [
    "### -Apply encodings for categorical variable and scale the features."
   ]
  },
  {
   "cell_type": "markdown",
   "id": "b3b0ed33",
   "metadata": {},
   "source": [
    "For encoding applied one-hot encoder"
   ]
  },
  {
   "cell_type": "code",
   "execution_count": 12,
   "id": "052281bc",
   "metadata": {},
   "outputs": [],
   "source": [
    "# Applied one-hot encoding to categorical columns\n",
    "noisy_data = pd.get_dummies(noisy_data, columns=['Region', 'Online Shopper'])"
   ]
  },
  {
   "cell_type": "markdown",
   "id": "6af3c94e",
   "metadata": {},
   "source": [
    "For scaling used MinMax Scaler"
   ]
  },
  {
   "cell_type": "code",
   "execution_count": 13,
   "id": "fe28d65d",
   "metadata": {},
   "outputs": [],
   "source": [
    "from sklearn.preprocessing import MinMaxScaler\n",
    "\n",
    "# Initialize the MinMaxScaler\n",
    "scaler = MinMaxScaler()\n",
    "\n",
    "# Scale the 'Age' and 'Income' columns to the range [0, 1]\n",
    "noisy_data[['Age', 'Income']] = scaler.fit_transform(noisy_data[['Age', 'Income']])\n"
   ]
  },
  {
   "cell_type": "code",
   "execution_count": 14,
   "id": "0b1961be",
   "metadata": {},
   "outputs": [
    {
     "name": "stdout",
     "output_type": "stream",
     "text": [
      "        Age    Income  Region_Brazil  Region_India  Region_USA  \\\n",
      "0  0.739130  0.685714              0             1           0   \n",
      "1  0.000000  0.000000              1             0           0   \n",
      "2  0.130435  0.171429              0             0           1   \n",
      "3  0.478261  0.371429              1             0           0   \n",
      "4  0.565217  0.450794              0             0           1   \n",
      "5  0.347826  0.285714              0             1           0   \n",
      "6  0.512077  0.114286              1             0           0   \n",
      "7  0.913043  0.885714              0             1           0   \n",
      "8  1.000000  1.000000              0             0           1   \n",
      "9  0.434783  0.542857              0             1           0   \n",
      "\n",
      "   Online Shopper_No  Online Shopper_Yes  \n",
      "0                  1                   0  \n",
      "1                  0                   1  \n",
      "2                  1                   0  \n",
      "3                  1                   0  \n",
      "4                  0                   1  \n",
      "5                  0                   1  \n",
      "6                  1                   0  \n",
      "7                  0                   1  \n",
      "8                  1                   0  \n",
      "9                  0                   1  \n"
     ]
    }
   ],
   "source": [
    "print(noisy_data)"
   ]
  },
  {
   "cell_type": "markdown",
   "id": "0dc154fa",
   "metadata": {},
   "source": [
    "## 2. Consider the text present in the file ‘wiki.txt’ and Answer the following questions :"
   ]
  },
  {
   "cell_type": "code",
   "execution_count": 15,
   "id": "e99171aa",
   "metadata": {},
   "outputs": [],
   "source": [
    "import nltk\n",
    "from nltk.tokenize import RegexpTokenizer, word_tokenize\n",
    "from nltk.corpus import stopwords"
   ]
  },
  {
   "cell_type": "code",
   "execution_count": 16,
   "id": "93e23353",
   "metadata": {},
   "outputs": [
    {
     "name": "stderr",
     "output_type": "stream",
     "text": [
      "[nltk_data] Downloading package punkt to\n",
      "[nltk_data]     C:\\Users\\patel\\AppData\\Roaming\\nltk_data...\n",
      "[nltk_data]   Package punkt is already up-to-date!\n",
      "[nltk_data] Downloading package stopwords to\n",
      "[nltk_data]     C:\\Users\\patel\\AppData\\Roaming\\nltk_data...\n",
      "[nltk_data]   Package stopwords is already up-to-date!\n"
     ]
    },
    {
     "data": {
      "text/plain": [
       "True"
      ]
     },
     "execution_count": 16,
     "metadata": {},
     "output_type": "execute_result"
    }
   ],
   "source": [
    "nltk.download('punkt')\n",
    "nltk.download('stopwords')"
   ]
  },
  {
   "cell_type": "code",
   "execution_count": 17,
   "id": "c6515e9e",
   "metadata": {},
   "outputs": [],
   "source": [
    "with open(\"wiki.txt\", \"r\") as file:\n",
    "    text = file.read()"
   ]
  },
  {
   "cell_type": "markdown",
   "id": "e7ca8e7c",
   "metadata": {},
   "source": [
    "### -Write a program to convert following text into tokens with two tokenization methods such as ‘RegexpTokenizer()’ and ‘word_tokenize()’ from NLTK library."
   ]
  },
  {
   "cell_type": "code",
   "execution_count": 18,
   "id": "43b959e9",
   "metadata": {},
   "outputs": [],
   "source": [
    "# Remove stop words and punctuation\n",
    "stop_words = set(stopwords.words('english'))"
   ]
  },
  {
   "cell_type": "code",
   "execution_count": 19,
   "id": "da108f35",
   "metadata": {},
   "outputs": [
    {
     "name": "stdout",
     "output_type": "stream",
     "text": [
      "Tokens using Regexp Tokenizer: ['The', 'history', 'of', 'NLP', 'generally', 'started', 'in', 'the', '1950s', 'although', 'work', 'can', 'be', 'found', 'from', 'earlier', 'periods', 'In', '1950', 'Alan', 'Turing', 'published', 'an', 'article', 'titled', 'Computing', 'Machinery', 'and', 'Intelligence', 'which', 'proposed', 'what', 'is', 'now', 'called', 'the', 'Turing', 'test', 'as', 'a', 'criterion', 'of', 'intelligence', 'The', 'Georgetown', 'experiment', 'in', '1954', 'involved', 'fully', 'automatic', 'translation', 'of', 'more', 'than', 'sixty', 'Russian', 'sentences', 'into', 'English', 'The', 'authors', 'claimed', 'that', 'within', 'three', 'or', 'five', 'years', 'machine', 'translation', 'would', 'be', 'a', 'solved', 'problem', '2', 'However', 'real', 'progress', 'was', 'much', 'slower', 'and', 'after', 'the', 'ALPAC', 'report', 'in', '1966', 'which', 'found', 'that', 'ten', 'year', 'long', 'research', 'had', 'failed', 'to', 'fulfill', 'the', 'expectations', 'funding', 'for', 'machine', 'translation', 'was', 'dramatically', 'reduced', 'Little', 'further', 'research', 'in', 'machine', 'translation', 'was', 'conducted', 'until', 'the', 'late', '1980s', 'when', 'the', 'first', 'statistical', 'machine', 'translation', 'systems', 'were', 'developed', 'Some', 'notably', 'successful', 'NLP', 'systems', 'developed', 'in', 'the', '1960s', 'were', 'SHRDLU', 'a', 'natural', 'language', 'system', 'working', 'in', 'restricted', 'blocks', 'worlds', 'with', 'restricted', 'vocabularies', 'and', 'ELIZA', 'a', 'simulation', 'of', 'a', 'Rogerian', 'psychotherapist', 'written', 'by', 'Joseph', 'Weizenbaum', 'between', '1964', 'and', '1966', 'Using', 'almost', 'no', 'information', 'about', 'human', 'thought', 'or', 'emotion', 'ELIZA', 'sometimes', 'provided', 'a', 'startlingly', 'human', 'like', 'interaction', 'When', 'the', 'patient', 'exceeded', 'the', 'very', 'small', 'knowledge', 'base', 'ELIZA', 'might', 'provide', 'a', 'generic', 'response', 'for', 'example', 'responding', 'to', 'My', 'head', 'hurts', 'with', 'Why', 'do', 'you', 'say', 'your', 'head', 'hurts']\n",
      "\n",
      "Tokens after removing stop words and punctuation:\n",
      "Tokens using Regexp Tokenizer: ['history', 'NLP', 'generally', 'started', 'although', 'work', 'found', 'earlier', 'periods', 'Alan', 'Turing', 'published', 'article', 'titled', 'Computing', 'Machinery', 'Intelligence', 'proposed', 'called', 'Turing', 'test', 'criterion', 'intelligence', 'Georgetown', 'experiment', 'involved', 'fully', 'automatic', 'translation', 'sixty', 'Russian', 'sentences', 'English', 'authors', 'claimed', 'within', 'three', 'five', 'years', 'machine', 'translation', 'would', 'solved', 'problem', 'However', 'real', 'progress', 'much', 'slower', 'ALPAC', 'report', 'found', 'ten', 'year', 'long', 'research', 'failed', 'fulfill', 'expectations', 'funding', 'machine', 'translation', 'dramatically', 'reduced', 'Little', 'research', 'machine', 'translation', 'conducted', 'late', 'first', 'statistical', 'machine', 'translation', 'systems', 'developed', 'notably', 'successful', 'NLP', 'systems', 'developed', 'SHRDLU', 'natural', 'language', 'system', 'working', 'restricted', 'blocks', 'worlds', 'restricted', 'vocabularies', 'ELIZA', 'simulation', 'Rogerian', 'psychotherapist', 'written', 'Joseph', 'Weizenbaum', 'Using', 'almost', 'information', 'human', 'thought', 'emotion', 'ELIZA', 'sometimes', 'provided', 'startlingly', 'human', 'like', 'interaction', 'patient', 'exceeded', 'small', 'knowledge', 'base', 'ELIZA', 'might', 'provide', 'generic', 'response', 'example', 'responding', 'head', 'hurts', 'say', 'head', 'hurts']\n"
     ]
    }
   ],
   "source": [
    "# Tokenize Using RegexpTokenizer\n",
    "\n",
    "tokenizer1 = RegexpTokenizer(r'\\w+')\n",
    "tokens = tokenizer1.tokenize(text)\n",
    "print(\"Tokens using Regexp Tokenizer:\", tokens)\n",
    "\n",
    "tokens = [word for word in tokens if word.lower() not in stop_words and word.isalpha()]\n",
    "print(\"\\nTokens after removing stop words and punctuation:\")\n",
    "print(\"Tokens using Regexp Tokenizer:\", tokens)"
   ]
  },
  {
   "cell_type": "code",
   "execution_count": 20,
   "id": "d22786e4",
   "metadata": {},
   "outputs": [
    {
     "name": "stdout",
     "output_type": "stream",
     "text": [
      "Tokens Using word_tokenize: ['The', 'history', 'of', 'NLP', 'generally', 'started', 'in', 'the', '1950s', ',', 'although', 'work', 'can', 'be', 'found', 'from', 'earlier', 'periods', '.', 'In', '1950', ',', 'Alan', 'Turing', 'published', 'an', 'article', 'titled', '``', 'Computing', 'Machinery', 'and', 'Intelligence', \"''\", 'which', 'proposed', 'what', 'is', 'now', 'called', 'the', 'Turing', 'test', 'as', 'a', 'criterion', 'of', 'intelligence', '.', 'The', 'Georgetown', 'experiment', 'in', '1954', 'involved', 'fully', 'automatic', 'translation', 'of', 'more', 'than', 'sixty', 'Russian', 'sentences', 'into', 'English', '.', 'The', 'authors', 'claimed', 'that', 'within', 'three', 'or', 'five', 'years', ',', 'machine', 'translation', 'would', 'be', 'a', 'solved', 'problem', '.', '[', '2', ']', 'However', ',', 'real', 'progress', 'was', 'much', 'slower', ',', 'and', 'after', 'the', 'ALPAC', 'report', 'in', '1966', ',', 'which', 'found', 'that', 'ten-year-long', 'research', 'had', 'failed', 'to', 'fulfill', 'the', 'expectations', ',', 'funding', 'for', 'machine', 'translation', 'was', 'dramatically', 'reduced', '.', 'Little', 'further', 'research', 'in', 'machine', 'translation', 'was', 'conducted', 'until', 'the', 'late', '1980s', ',', 'when', 'the', 'first', 'statistical', 'machine', 'translation', 'systems', 'were', 'developed', '.', 'Some', 'notably', 'successful', 'NLP', 'systems', 'developed', 'in', 'the', '1960s', 'were', 'SHRDLU', ',', 'a', 'natural-language', 'system', 'working', 'in', 'restricted', '``', 'blocks', 'worlds', \"''\", 'with', 'restricted', 'vocabularies', ',', 'and', 'ELIZA', ',', 'a', 'simulation', 'of', 'a', 'Rogerian', 'psychotherapist', ',', 'written', 'by', 'Joseph', 'Weizenbaum', 'between', '1964', 'and', '1966', '.', 'Using', 'almost', 'no', 'information', 'about', 'human', 'thought', 'or', 'emotion', ',', 'ELIZA', 'sometimes', 'provided', 'a', 'startlingly', 'human-like', 'interaction', '.', 'When', 'the', '``', 'patient', \"''\", 'exceeded', 'the', 'very', 'small', 'knowledge', 'base', ',', 'ELIZA', 'might', 'provide', 'a', 'generic', 'response', ',', 'for', 'example', ',', 'responding', 'to', '``', 'My', 'head', 'hurts', \"''\", 'with', '``', 'Why', 'do', 'you', 'say', 'your', 'head', 'hurts', '?', '``', '.']\n",
      "\n",
      "Tokens after removing stop words and punctuation:\n",
      "\n",
      "\n",
      "Tokens Using word_tokenize: ['history', 'NLP', 'generally', 'started', 'although', 'work', 'found', 'earlier', 'periods', 'Alan', 'Turing', 'published', 'article', 'titled', 'Computing', 'Machinery', 'Intelligence', 'proposed', 'called', 'Turing', 'test', 'criterion', 'intelligence', 'Georgetown', 'experiment', 'involved', 'fully', 'automatic', 'translation', 'sixty', 'Russian', 'sentences', 'English', 'authors', 'claimed', 'within', 'three', 'five', 'years', 'machine', 'translation', 'would', 'solved', 'problem', 'However', 'real', 'progress', 'much', 'slower', 'ALPAC', 'report', 'found', 'research', 'failed', 'fulfill', 'expectations', 'funding', 'machine', 'translation', 'dramatically', 'reduced', 'Little', 'research', 'machine', 'translation', 'conducted', 'late', 'first', 'statistical', 'machine', 'translation', 'systems', 'developed', 'notably', 'successful', 'NLP', 'systems', 'developed', 'SHRDLU', 'system', 'working', 'restricted', 'blocks', 'worlds', 'restricted', 'vocabularies', 'ELIZA', 'simulation', 'Rogerian', 'psychotherapist', 'written', 'Joseph', 'Weizenbaum', 'Using', 'almost', 'information', 'human', 'thought', 'emotion', 'ELIZA', 'sometimes', 'provided', 'startlingly', 'interaction', 'patient', 'exceeded', 'small', 'knowledge', 'base', 'ELIZA', 'might', 'provide', 'generic', 'response', 'example', 'responding', 'head', 'hurts', 'say', 'head', 'hurts']\n"
     ]
    }
   ],
   "source": [
    "# Tokenize Using word_tokenize\n",
    "\n",
    "tokenizer2 = word_tokenize\n",
    "tokens_word = tokenizer2(text)\n",
    "print(\"Tokens Using word_tokenize:\", tokens_word)\n",
    "\n",
    "tokens_word = [word for word in tokens_word if word.lower() not in stop_words and word.isalpha()]\n",
    "\n",
    "print(\"\\nTokens after removing stop words and punctuation:\")\n",
    "print(\"\\n\\nTokens Using word_tokenize:\", tokens_word)"
   ]
  },
  {
   "cell_type": "markdown",
   "id": "84cddbdf",
   "metadata": {},
   "source": [
    "### -Write a regular expression to extract all the year mentions in the ‘wiki.txt’ file."
   ]
  },
  {
   "cell_type": "code",
   "execution_count": 21,
   "id": "09f07962",
   "metadata": {},
   "outputs": [
    {
     "name": "stdout",
     "output_type": "stream",
     "text": [
      "Years In Text: ['1950', '1954', '1966', '1964', '1966']\n"
     ]
    }
   ],
   "source": [
    "import re\n",
    "\n",
    "def find_years_in_text(input_text):\n",
    "    return re.findall(r\"\\b\\d{4}\\b\", input_text)\n",
    "\n",
    "with open(\"wiki.txt\", \"r\") as file:\n",
    "    text = file.read()\n",
    "    found_years = find_years_in_text(text)\n",
    "    print(\"Years In Text:\" , found_years)"
   ]
  },
  {
   "cell_type": "markdown",
   "id": "196c8ff2",
   "metadata": {},
   "source": [
    "###  -State the differences observed in the output of tokenization methods."
   ]
  },
  {
   "cell_type": "markdown",
   "id": "ed469004",
   "metadata": {},
   "source": [
    "#### - RegexpTokenizer() splits the text based on certain patterns, such as non-alphanumeric characters and whitespace.\n",
    "\n",
    "Ex. 'problem', '2', 'However\n",
    "\n",
    "#### word_tokenize() splits the text into tokens based on language-specific rules, handling punctuation and alphanumeric characters differently.\n",
    "    \n",
    "Ex. 'problem', '.', '[', '2', ']', 'However'"
   ]
  },
  {
   "cell_type": "markdown",
   "id": "ef6f69ec",
   "metadata": {},
   "source": [
    "#### - RegexpTokenizer()' relies on regular expressions for customization and can split tokens based on defined pattern.\n",
    "\n",
    "Ex. 'ten', 'year', 'long'\n",
    "\n",
    "#### 'word_tokenize()' is more language-aware and handles contractions and hyphenated words as single tokens.\n",
    "\n",
    "Ex.'ten-year-long'"
   ]
  },
  {
   "cell_type": "markdown",
   "id": "d72cf16d",
   "metadata": {},
   "source": [
    "#### - Both tokenizers maintain the capitalization of words in the output tokens.\n",
    "\n",
    "Example:\n",
    "\n",
    "'RegexpTokenizer()': 'The', 'history', 'of', 'NLP'\n",
    "\n",
    "'word_tokenize()': 'The', 'history', 'of', 'NLP'"
   ]
  },
  {
   "cell_type": "markdown",
   "id": "d435489e",
   "metadata": {},
   "source": [
    "#### In conclusion, the specific requirements of our text processing task should be taken into consideration when deciding between \"RegexpTokenizer()\" and \"word_tokenize()\":\n",
    "\n",
    "#### Use the 'RegexpTokenizer()' function to split text based on specially defined regular expressions when we need fine-grained control over tokenization patterns.\n",
    "\n",
    "#### Use 'word_tokenize()' when we need a more language-sensitive tokenization technique that can handle contractions, hyphenated words, and specific punctuation marks without requiring a lot of customization."
   ]
  },
  {
   "cell_type": "markdown",
   "id": "11238d4f",
   "metadata": {},
   "source": [
    "## 3. Consider this dataset from kaggle. (Download the dataset from following link : https://www.kaggle.com/dansbecker/melbourne-housing-snapshot/home) and answer the following questions : "
   ]
  },
  {
   "cell_type": "code",
   "execution_count": 22,
   "id": "303e384c",
   "metadata": {},
   "outputs": [],
   "source": [
    "import pandas as pd\n",
    "import numpy as np\n",
    "import seaborn as sns\n",
    "from matplotlib import pyplot as plt\n",
    "from scipy import stats\n",
    "from sklearn.feature_selection import SelectFromModel\n",
    "from sklearn.ensemble import RandomForestRegressor\n",
    "from sklearn.feature_selection import SelectFpr, chi2, SelectKBest, SelectFwe, f_classif, SelectFdr\n",
    "from sklearn.feature_selection import SelectKBest, chi2, mutual_info_classif"
   ]
  },
  {
   "cell_type": "code",
   "execution_count": 23,
   "id": "cd47df58",
   "metadata": {},
   "outputs": [],
   "source": [
    "melb_data = pd.read_csv('melb_data.csv')"
   ]
  },
  {
   "cell_type": "code",
   "execution_count": 24,
   "id": "0ebfa8d8",
   "metadata": {},
   "outputs": [
    {
     "data": {
      "text/html": [
       "<div>\n",
       "<style scoped>\n",
       "    .dataframe tbody tr th:only-of-type {\n",
       "        vertical-align: middle;\n",
       "    }\n",
       "\n",
       "    .dataframe tbody tr th {\n",
       "        vertical-align: top;\n",
       "    }\n",
       "\n",
       "    .dataframe thead th {\n",
       "        text-align: right;\n",
       "    }\n",
       "</style>\n",
       "<table border=\"1\" class=\"dataframe\">\n",
       "  <thead>\n",
       "    <tr style=\"text-align: right;\">\n",
       "      <th></th>\n",
       "      <th>Suburb</th>\n",
       "      <th>Address</th>\n",
       "      <th>Rooms</th>\n",
       "      <th>Type</th>\n",
       "      <th>Price</th>\n",
       "      <th>Method</th>\n",
       "      <th>SellerG</th>\n",
       "      <th>Date</th>\n",
       "      <th>Distance</th>\n",
       "      <th>Postcode</th>\n",
       "      <th>...</th>\n",
       "      <th>Bathroom</th>\n",
       "      <th>Car</th>\n",
       "      <th>Landsize</th>\n",
       "      <th>BuildingArea</th>\n",
       "      <th>YearBuilt</th>\n",
       "      <th>CouncilArea</th>\n",
       "      <th>Lattitude</th>\n",
       "      <th>Longtitude</th>\n",
       "      <th>Regionname</th>\n",
       "      <th>Propertycount</th>\n",
       "    </tr>\n",
       "  </thead>\n",
       "  <tbody>\n",
       "    <tr>\n",
       "      <th>0</th>\n",
       "      <td>Abbotsford</td>\n",
       "      <td>85 Turner St</td>\n",
       "      <td>2</td>\n",
       "      <td>h</td>\n",
       "      <td>1480000.0</td>\n",
       "      <td>S</td>\n",
       "      <td>Biggin</td>\n",
       "      <td>3/12/2016</td>\n",
       "      <td>2.5</td>\n",
       "      <td>3067.0</td>\n",
       "      <td>...</td>\n",
       "      <td>1.0</td>\n",
       "      <td>1.0</td>\n",
       "      <td>202.0</td>\n",
       "      <td>NaN</td>\n",
       "      <td>NaN</td>\n",
       "      <td>Yarra</td>\n",
       "      <td>-37.7996</td>\n",
       "      <td>144.9984</td>\n",
       "      <td>Northern Metropolitan</td>\n",
       "      <td>4019.0</td>\n",
       "    </tr>\n",
       "    <tr>\n",
       "      <th>1</th>\n",
       "      <td>Abbotsford</td>\n",
       "      <td>25 Bloomburg St</td>\n",
       "      <td>2</td>\n",
       "      <td>h</td>\n",
       "      <td>1035000.0</td>\n",
       "      <td>S</td>\n",
       "      <td>Biggin</td>\n",
       "      <td>4/02/2016</td>\n",
       "      <td>2.5</td>\n",
       "      <td>3067.0</td>\n",
       "      <td>...</td>\n",
       "      <td>1.0</td>\n",
       "      <td>0.0</td>\n",
       "      <td>156.0</td>\n",
       "      <td>79.0</td>\n",
       "      <td>1900.0</td>\n",
       "      <td>Yarra</td>\n",
       "      <td>-37.8079</td>\n",
       "      <td>144.9934</td>\n",
       "      <td>Northern Metropolitan</td>\n",
       "      <td>4019.0</td>\n",
       "    </tr>\n",
       "    <tr>\n",
       "      <th>2</th>\n",
       "      <td>Abbotsford</td>\n",
       "      <td>5 Charles St</td>\n",
       "      <td>3</td>\n",
       "      <td>h</td>\n",
       "      <td>1465000.0</td>\n",
       "      <td>SP</td>\n",
       "      <td>Biggin</td>\n",
       "      <td>4/03/2017</td>\n",
       "      <td>2.5</td>\n",
       "      <td>3067.0</td>\n",
       "      <td>...</td>\n",
       "      <td>2.0</td>\n",
       "      <td>0.0</td>\n",
       "      <td>134.0</td>\n",
       "      <td>150.0</td>\n",
       "      <td>1900.0</td>\n",
       "      <td>Yarra</td>\n",
       "      <td>-37.8093</td>\n",
       "      <td>144.9944</td>\n",
       "      <td>Northern Metropolitan</td>\n",
       "      <td>4019.0</td>\n",
       "    </tr>\n",
       "    <tr>\n",
       "      <th>3</th>\n",
       "      <td>Abbotsford</td>\n",
       "      <td>40 Federation La</td>\n",
       "      <td>3</td>\n",
       "      <td>h</td>\n",
       "      <td>850000.0</td>\n",
       "      <td>PI</td>\n",
       "      <td>Biggin</td>\n",
       "      <td>4/03/2017</td>\n",
       "      <td>2.5</td>\n",
       "      <td>3067.0</td>\n",
       "      <td>...</td>\n",
       "      <td>2.0</td>\n",
       "      <td>1.0</td>\n",
       "      <td>94.0</td>\n",
       "      <td>NaN</td>\n",
       "      <td>NaN</td>\n",
       "      <td>Yarra</td>\n",
       "      <td>-37.7969</td>\n",
       "      <td>144.9969</td>\n",
       "      <td>Northern Metropolitan</td>\n",
       "      <td>4019.0</td>\n",
       "    </tr>\n",
       "    <tr>\n",
       "      <th>4</th>\n",
       "      <td>Abbotsford</td>\n",
       "      <td>55a Park St</td>\n",
       "      <td>4</td>\n",
       "      <td>h</td>\n",
       "      <td>1600000.0</td>\n",
       "      <td>VB</td>\n",
       "      <td>Nelson</td>\n",
       "      <td>4/06/2016</td>\n",
       "      <td>2.5</td>\n",
       "      <td>3067.0</td>\n",
       "      <td>...</td>\n",
       "      <td>1.0</td>\n",
       "      <td>2.0</td>\n",
       "      <td>120.0</td>\n",
       "      <td>142.0</td>\n",
       "      <td>2014.0</td>\n",
       "      <td>Yarra</td>\n",
       "      <td>-37.8072</td>\n",
       "      <td>144.9941</td>\n",
       "      <td>Northern Metropolitan</td>\n",
       "      <td>4019.0</td>\n",
       "    </tr>\n",
       "  </tbody>\n",
       "</table>\n",
       "<p>5 rows × 21 columns</p>\n",
       "</div>"
      ],
      "text/plain": [
       "       Suburb           Address  Rooms Type      Price Method SellerG  \\\n",
       "0  Abbotsford      85 Turner St      2    h  1480000.0      S  Biggin   \n",
       "1  Abbotsford   25 Bloomburg St      2    h  1035000.0      S  Biggin   \n",
       "2  Abbotsford      5 Charles St      3    h  1465000.0     SP  Biggin   \n",
       "3  Abbotsford  40 Federation La      3    h   850000.0     PI  Biggin   \n",
       "4  Abbotsford       55a Park St      4    h  1600000.0     VB  Nelson   \n",
       "\n",
       "        Date  Distance  Postcode  ...  Bathroom  Car  Landsize  BuildingArea  \\\n",
       "0  3/12/2016       2.5    3067.0  ...       1.0  1.0     202.0           NaN   \n",
       "1  4/02/2016       2.5    3067.0  ...       1.0  0.0     156.0          79.0   \n",
       "2  4/03/2017       2.5    3067.0  ...       2.0  0.0     134.0         150.0   \n",
       "3  4/03/2017       2.5    3067.0  ...       2.0  1.0      94.0           NaN   \n",
       "4  4/06/2016       2.5    3067.0  ...       1.0  2.0     120.0         142.0   \n",
       "\n",
       "   YearBuilt  CouncilArea Lattitude  Longtitude             Regionname  \\\n",
       "0        NaN        Yarra  -37.7996    144.9984  Northern Metropolitan   \n",
       "1     1900.0        Yarra  -37.8079    144.9934  Northern Metropolitan   \n",
       "2     1900.0        Yarra  -37.8093    144.9944  Northern Metropolitan   \n",
       "3        NaN        Yarra  -37.7969    144.9969  Northern Metropolitan   \n",
       "4     2014.0        Yarra  -37.8072    144.9941  Northern Metropolitan   \n",
       "\n",
       "  Propertycount  \n",
       "0        4019.0  \n",
       "1        4019.0  \n",
       "2        4019.0  \n",
       "3        4019.0  \n",
       "4        4019.0  \n",
       "\n",
       "[5 rows x 21 columns]"
      ]
     },
     "execution_count": 24,
     "metadata": {},
     "output_type": "execute_result"
    }
   ],
   "source": [
    "melb_data.head()"
   ]
  },
  {
   "cell_type": "code",
   "execution_count": 25,
   "id": "748c7b29",
   "metadata": {},
   "outputs": [
    {
     "name": "stdout",
     "output_type": "stream",
     "text": [
      "<class 'pandas.core.frame.DataFrame'>\n",
      "RangeIndex: 13580 entries, 0 to 13579\n",
      "Data columns (total 21 columns):\n",
      " #   Column         Non-Null Count  Dtype  \n",
      "---  ------         --------------  -----  \n",
      " 0   Suburb         13580 non-null  object \n",
      " 1   Address        13580 non-null  object \n",
      " 2   Rooms          13580 non-null  int64  \n",
      " 3   Type           13580 non-null  object \n",
      " 4   Price          13580 non-null  float64\n",
      " 5   Method         13580 non-null  object \n",
      " 6   SellerG        13580 non-null  object \n",
      " 7   Date           13580 non-null  object \n",
      " 8   Distance       13580 non-null  float64\n",
      " 9   Postcode       13580 non-null  float64\n",
      " 10  Bedroom2       13580 non-null  float64\n",
      " 11  Bathroom       13580 non-null  float64\n",
      " 12  Car            13518 non-null  float64\n",
      " 13  Landsize       13580 non-null  float64\n",
      " 14  BuildingArea   7130 non-null   float64\n",
      " 15  YearBuilt      8205 non-null   float64\n",
      " 16  CouncilArea    12211 non-null  object \n",
      " 17  Lattitude      13580 non-null  float64\n",
      " 18  Longtitude     13580 non-null  float64\n",
      " 19  Regionname     13580 non-null  object \n",
      " 20  Propertycount  13580 non-null  float64\n",
      "dtypes: float64(12), int64(1), object(8)\n",
      "memory usage: 2.2+ MB\n"
     ]
    }
   ],
   "source": [
    "melb_data.info()"
   ]
  },
  {
   "cell_type": "code",
   "execution_count": 26,
   "id": "249b7c18",
   "metadata": {},
   "outputs": [
    {
     "data": {
      "text/html": [
       "<div>\n",
       "<style scoped>\n",
       "    .dataframe tbody tr th:only-of-type {\n",
       "        vertical-align: middle;\n",
       "    }\n",
       "\n",
       "    .dataframe tbody tr th {\n",
       "        vertical-align: top;\n",
       "    }\n",
       "\n",
       "    .dataframe thead th {\n",
       "        text-align: right;\n",
       "    }\n",
       "</style>\n",
       "<table border=\"1\" class=\"dataframe\">\n",
       "  <thead>\n",
       "    <tr style=\"text-align: right;\">\n",
       "      <th></th>\n",
       "      <th>Rooms</th>\n",
       "      <th>Price</th>\n",
       "      <th>Distance</th>\n",
       "      <th>Postcode</th>\n",
       "      <th>Bedroom2</th>\n",
       "      <th>Bathroom</th>\n",
       "      <th>Car</th>\n",
       "      <th>Landsize</th>\n",
       "      <th>BuildingArea</th>\n",
       "      <th>YearBuilt</th>\n",
       "      <th>Lattitude</th>\n",
       "      <th>Longtitude</th>\n",
       "      <th>Propertycount</th>\n",
       "    </tr>\n",
       "  </thead>\n",
       "  <tbody>\n",
       "    <tr>\n",
       "      <th>count</th>\n",
       "      <td>13580.000000</td>\n",
       "      <td>1.358000e+04</td>\n",
       "      <td>13580.000000</td>\n",
       "      <td>13580.000000</td>\n",
       "      <td>13580.000000</td>\n",
       "      <td>13580.000000</td>\n",
       "      <td>13518.000000</td>\n",
       "      <td>13580.000000</td>\n",
       "      <td>7130.000000</td>\n",
       "      <td>8205.000000</td>\n",
       "      <td>13580.000000</td>\n",
       "      <td>13580.000000</td>\n",
       "      <td>13580.000000</td>\n",
       "    </tr>\n",
       "    <tr>\n",
       "      <th>mean</th>\n",
       "      <td>2.937997</td>\n",
       "      <td>1.075684e+06</td>\n",
       "      <td>10.137776</td>\n",
       "      <td>3105.301915</td>\n",
       "      <td>2.914728</td>\n",
       "      <td>1.534242</td>\n",
       "      <td>1.610075</td>\n",
       "      <td>558.416127</td>\n",
       "      <td>151.967650</td>\n",
       "      <td>1964.684217</td>\n",
       "      <td>-37.809203</td>\n",
       "      <td>144.995216</td>\n",
       "      <td>7454.417378</td>\n",
       "    </tr>\n",
       "    <tr>\n",
       "      <th>std</th>\n",
       "      <td>0.955748</td>\n",
       "      <td>6.393107e+05</td>\n",
       "      <td>5.868725</td>\n",
       "      <td>90.676964</td>\n",
       "      <td>0.965921</td>\n",
       "      <td>0.691712</td>\n",
       "      <td>0.962634</td>\n",
       "      <td>3990.669241</td>\n",
       "      <td>541.014538</td>\n",
       "      <td>37.273762</td>\n",
       "      <td>0.079260</td>\n",
       "      <td>0.103916</td>\n",
       "      <td>4378.581772</td>\n",
       "    </tr>\n",
       "    <tr>\n",
       "      <th>min</th>\n",
       "      <td>1.000000</td>\n",
       "      <td>8.500000e+04</td>\n",
       "      <td>0.000000</td>\n",
       "      <td>3000.000000</td>\n",
       "      <td>0.000000</td>\n",
       "      <td>0.000000</td>\n",
       "      <td>0.000000</td>\n",
       "      <td>0.000000</td>\n",
       "      <td>0.000000</td>\n",
       "      <td>1196.000000</td>\n",
       "      <td>-38.182550</td>\n",
       "      <td>144.431810</td>\n",
       "      <td>249.000000</td>\n",
       "    </tr>\n",
       "    <tr>\n",
       "      <th>25%</th>\n",
       "      <td>2.000000</td>\n",
       "      <td>6.500000e+05</td>\n",
       "      <td>6.100000</td>\n",
       "      <td>3044.000000</td>\n",
       "      <td>2.000000</td>\n",
       "      <td>1.000000</td>\n",
       "      <td>1.000000</td>\n",
       "      <td>177.000000</td>\n",
       "      <td>93.000000</td>\n",
       "      <td>1940.000000</td>\n",
       "      <td>-37.856822</td>\n",
       "      <td>144.929600</td>\n",
       "      <td>4380.000000</td>\n",
       "    </tr>\n",
       "    <tr>\n",
       "      <th>50%</th>\n",
       "      <td>3.000000</td>\n",
       "      <td>9.030000e+05</td>\n",
       "      <td>9.200000</td>\n",
       "      <td>3084.000000</td>\n",
       "      <td>3.000000</td>\n",
       "      <td>1.000000</td>\n",
       "      <td>2.000000</td>\n",
       "      <td>440.000000</td>\n",
       "      <td>126.000000</td>\n",
       "      <td>1970.000000</td>\n",
       "      <td>-37.802355</td>\n",
       "      <td>145.000100</td>\n",
       "      <td>6555.000000</td>\n",
       "    </tr>\n",
       "    <tr>\n",
       "      <th>75%</th>\n",
       "      <td>3.000000</td>\n",
       "      <td>1.330000e+06</td>\n",
       "      <td>13.000000</td>\n",
       "      <td>3148.000000</td>\n",
       "      <td>3.000000</td>\n",
       "      <td>2.000000</td>\n",
       "      <td>2.000000</td>\n",
       "      <td>651.000000</td>\n",
       "      <td>174.000000</td>\n",
       "      <td>1999.000000</td>\n",
       "      <td>-37.756400</td>\n",
       "      <td>145.058305</td>\n",
       "      <td>10331.000000</td>\n",
       "    </tr>\n",
       "    <tr>\n",
       "      <th>max</th>\n",
       "      <td>10.000000</td>\n",
       "      <td>9.000000e+06</td>\n",
       "      <td>48.100000</td>\n",
       "      <td>3977.000000</td>\n",
       "      <td>20.000000</td>\n",
       "      <td>8.000000</td>\n",
       "      <td>10.000000</td>\n",
       "      <td>433014.000000</td>\n",
       "      <td>44515.000000</td>\n",
       "      <td>2018.000000</td>\n",
       "      <td>-37.408530</td>\n",
       "      <td>145.526350</td>\n",
       "      <td>21650.000000</td>\n",
       "    </tr>\n",
       "  </tbody>\n",
       "</table>\n",
       "</div>"
      ],
      "text/plain": [
       "              Rooms         Price      Distance      Postcode      Bedroom2  \\\n",
       "count  13580.000000  1.358000e+04  13580.000000  13580.000000  13580.000000   \n",
       "mean       2.937997  1.075684e+06     10.137776   3105.301915      2.914728   \n",
       "std        0.955748  6.393107e+05      5.868725     90.676964      0.965921   \n",
       "min        1.000000  8.500000e+04      0.000000   3000.000000      0.000000   \n",
       "25%        2.000000  6.500000e+05      6.100000   3044.000000      2.000000   \n",
       "50%        3.000000  9.030000e+05      9.200000   3084.000000      3.000000   \n",
       "75%        3.000000  1.330000e+06     13.000000   3148.000000      3.000000   \n",
       "max       10.000000  9.000000e+06     48.100000   3977.000000     20.000000   \n",
       "\n",
       "           Bathroom           Car       Landsize  BuildingArea    YearBuilt  \\\n",
       "count  13580.000000  13518.000000   13580.000000   7130.000000  8205.000000   \n",
       "mean       1.534242      1.610075     558.416127    151.967650  1964.684217   \n",
       "std        0.691712      0.962634    3990.669241    541.014538    37.273762   \n",
       "min        0.000000      0.000000       0.000000      0.000000  1196.000000   \n",
       "25%        1.000000      1.000000     177.000000     93.000000  1940.000000   \n",
       "50%        1.000000      2.000000     440.000000    126.000000  1970.000000   \n",
       "75%        2.000000      2.000000     651.000000    174.000000  1999.000000   \n",
       "max        8.000000     10.000000  433014.000000  44515.000000  2018.000000   \n",
       "\n",
       "          Lattitude    Longtitude  Propertycount  \n",
       "count  13580.000000  13580.000000   13580.000000  \n",
       "mean     -37.809203    144.995216    7454.417378  \n",
       "std        0.079260      0.103916    4378.581772  \n",
       "min      -38.182550    144.431810     249.000000  \n",
       "25%      -37.856822    144.929600    4380.000000  \n",
       "50%      -37.802355    145.000100    6555.000000  \n",
       "75%      -37.756400    145.058305   10331.000000  \n",
       "max      -37.408530    145.526350   21650.000000  "
      ]
     },
     "execution_count": 26,
     "metadata": {},
     "output_type": "execute_result"
    }
   ],
   "source": [
    "melb_data.describe()"
   ]
  },
  {
   "cell_type": "code",
   "execution_count": 27,
   "id": "2b3a0956",
   "metadata": {},
   "outputs": [],
   "source": [
    "#Dropping the data with categorical values\n",
    "\n",
    "melb_data = melb_data.drop(columns=['Suburb', 'Address', 'Type', 'Method', 'SellerG', 'Date', 'CouncilArea', 'Regionname'])"
   ]
  },
  {
   "cell_type": "code",
   "execution_count": 28,
   "id": "6e0ccf42",
   "metadata": {},
   "outputs": [
    {
     "data": {
      "text/html": [
       "<div>\n",
       "<style scoped>\n",
       "    .dataframe tbody tr th:only-of-type {\n",
       "        vertical-align: middle;\n",
       "    }\n",
       "\n",
       "    .dataframe tbody tr th {\n",
       "        vertical-align: top;\n",
       "    }\n",
       "\n",
       "    .dataframe thead th {\n",
       "        text-align: right;\n",
       "    }\n",
       "</style>\n",
       "<table border=\"1\" class=\"dataframe\">\n",
       "  <thead>\n",
       "    <tr style=\"text-align: right;\">\n",
       "      <th></th>\n",
       "      <th>Rooms</th>\n",
       "      <th>Price</th>\n",
       "      <th>Distance</th>\n",
       "      <th>Postcode</th>\n",
       "      <th>Bedroom2</th>\n",
       "      <th>Bathroom</th>\n",
       "      <th>Car</th>\n",
       "      <th>Landsize</th>\n",
       "      <th>BuildingArea</th>\n",
       "      <th>YearBuilt</th>\n",
       "      <th>Lattitude</th>\n",
       "      <th>Longtitude</th>\n",
       "      <th>Propertycount</th>\n",
       "    </tr>\n",
       "  </thead>\n",
       "  <tbody>\n",
       "    <tr>\n",
       "      <th>0</th>\n",
       "      <td>2</td>\n",
       "      <td>1480000.0</td>\n",
       "      <td>2.5</td>\n",
       "      <td>3067.0</td>\n",
       "      <td>2.0</td>\n",
       "      <td>1.0</td>\n",
       "      <td>1.0</td>\n",
       "      <td>202.0</td>\n",
       "      <td>NaN</td>\n",
       "      <td>NaN</td>\n",
       "      <td>-37.7996</td>\n",
       "      <td>144.9984</td>\n",
       "      <td>4019.0</td>\n",
       "    </tr>\n",
       "    <tr>\n",
       "      <th>1</th>\n",
       "      <td>2</td>\n",
       "      <td>1035000.0</td>\n",
       "      <td>2.5</td>\n",
       "      <td>3067.0</td>\n",
       "      <td>2.0</td>\n",
       "      <td>1.0</td>\n",
       "      <td>0.0</td>\n",
       "      <td>156.0</td>\n",
       "      <td>79.0</td>\n",
       "      <td>1900.0</td>\n",
       "      <td>-37.8079</td>\n",
       "      <td>144.9934</td>\n",
       "      <td>4019.0</td>\n",
       "    </tr>\n",
       "    <tr>\n",
       "      <th>2</th>\n",
       "      <td>3</td>\n",
       "      <td>1465000.0</td>\n",
       "      <td>2.5</td>\n",
       "      <td>3067.0</td>\n",
       "      <td>3.0</td>\n",
       "      <td>2.0</td>\n",
       "      <td>0.0</td>\n",
       "      <td>134.0</td>\n",
       "      <td>150.0</td>\n",
       "      <td>1900.0</td>\n",
       "      <td>-37.8093</td>\n",
       "      <td>144.9944</td>\n",
       "      <td>4019.0</td>\n",
       "    </tr>\n",
       "    <tr>\n",
       "      <th>3</th>\n",
       "      <td>3</td>\n",
       "      <td>850000.0</td>\n",
       "      <td>2.5</td>\n",
       "      <td>3067.0</td>\n",
       "      <td>3.0</td>\n",
       "      <td>2.0</td>\n",
       "      <td>1.0</td>\n",
       "      <td>94.0</td>\n",
       "      <td>NaN</td>\n",
       "      <td>NaN</td>\n",
       "      <td>-37.7969</td>\n",
       "      <td>144.9969</td>\n",
       "      <td>4019.0</td>\n",
       "    </tr>\n",
       "    <tr>\n",
       "      <th>4</th>\n",
       "      <td>4</td>\n",
       "      <td>1600000.0</td>\n",
       "      <td>2.5</td>\n",
       "      <td>3067.0</td>\n",
       "      <td>3.0</td>\n",
       "      <td>1.0</td>\n",
       "      <td>2.0</td>\n",
       "      <td>120.0</td>\n",
       "      <td>142.0</td>\n",
       "      <td>2014.0</td>\n",
       "      <td>-37.8072</td>\n",
       "      <td>144.9941</td>\n",
       "      <td>4019.0</td>\n",
       "    </tr>\n",
       "  </tbody>\n",
       "</table>\n",
       "</div>"
      ],
      "text/plain": [
       "   Rooms      Price  Distance  Postcode  Bedroom2  Bathroom  Car  Landsize  \\\n",
       "0      2  1480000.0       2.5    3067.0       2.0       1.0  1.0     202.0   \n",
       "1      2  1035000.0       2.5    3067.0       2.0       1.0  0.0     156.0   \n",
       "2      3  1465000.0       2.5    3067.0       3.0       2.0  0.0     134.0   \n",
       "3      3   850000.0       2.5    3067.0       3.0       2.0  1.0      94.0   \n",
       "4      4  1600000.0       2.5    3067.0       3.0       1.0  2.0     120.0   \n",
       "\n",
       "   BuildingArea  YearBuilt  Lattitude  Longtitude  Propertycount  \n",
       "0           NaN        NaN   -37.7996    144.9984         4019.0  \n",
       "1          79.0     1900.0   -37.8079    144.9934         4019.0  \n",
       "2         150.0     1900.0   -37.8093    144.9944         4019.0  \n",
       "3           NaN        NaN   -37.7969    144.9969         4019.0  \n",
       "4         142.0     2014.0   -37.8072    144.9941         4019.0  "
      ]
     },
     "execution_count": 28,
     "metadata": {},
     "output_type": "execute_result"
    }
   ],
   "source": [
    "melb_data.head()"
   ]
  },
  {
   "cell_type": "code",
   "execution_count": 29,
   "id": "66e1b458",
   "metadata": {},
   "outputs": [
    {
     "data": {
      "text/plain": [
       "Rooms               0\n",
       "Price               0\n",
       "Distance            0\n",
       "Postcode            0\n",
       "Bedroom2            0\n",
       "Bathroom            0\n",
       "Car                62\n",
       "Landsize            0\n",
       "BuildingArea     6450\n",
       "YearBuilt        5375\n",
       "Lattitude           0\n",
       "Longtitude          0\n",
       "Propertycount       0\n",
       "dtype: int64"
      ]
     },
     "execution_count": 29,
     "metadata": {},
     "output_type": "execute_result"
    }
   ],
   "source": [
    "melb_data.isnull().sum()"
   ]
  },
  {
   "cell_type": "code",
   "execution_count": 30,
   "id": "12c0cc59",
   "metadata": {},
   "outputs": [
    {
     "data": {
      "text/plain": [
       "Rooms            0.000000\n",
       "Price            0.000000\n",
       "Distance         0.000000\n",
       "Postcode         0.000000\n",
       "Bedroom2         0.000000\n",
       "Bathroom         0.000000\n",
       "Car              0.004566\n",
       "Landsize         0.000000\n",
       "BuildingArea     0.474963\n",
       "YearBuilt        0.395803\n",
       "Lattitude        0.000000\n",
       "Longtitude       0.000000\n",
       "Propertycount    0.000000\n",
       "dtype: float64"
      ]
     },
     "execution_count": 30,
     "metadata": {},
     "output_type": "execute_result"
    }
   ],
   "source": [
    "melb_data.isnull().mean()"
   ]
  },
  {
   "cell_type": "code",
   "execution_count": 31,
   "id": "60266126",
   "metadata": {},
   "outputs": [
    {
     "data": {
      "text/html": [
       "<div>\n",
       "<style scoped>\n",
       "    .dataframe tbody tr th:only-of-type {\n",
       "        vertical-align: middle;\n",
       "    }\n",
       "\n",
       "    .dataframe tbody tr th {\n",
       "        vertical-align: top;\n",
       "    }\n",
       "\n",
       "    .dataframe thead th {\n",
       "        text-align: right;\n",
       "    }\n",
       "</style>\n",
       "<table border=\"1\" class=\"dataframe\">\n",
       "  <thead>\n",
       "    <tr style=\"text-align: right;\">\n",
       "      <th></th>\n",
       "      <th>Rooms</th>\n",
       "      <th>Price</th>\n",
       "      <th>Distance</th>\n",
       "      <th>Postcode</th>\n",
       "      <th>Bedroom2</th>\n",
       "      <th>Bathroom</th>\n",
       "      <th>Car</th>\n",
       "      <th>Landsize</th>\n",
       "      <th>BuildingArea</th>\n",
       "      <th>YearBuilt</th>\n",
       "      <th>Lattitude</th>\n",
       "      <th>Longtitude</th>\n",
       "      <th>Propertycount</th>\n",
       "    </tr>\n",
       "  </thead>\n",
       "  <tbody>\n",
       "    <tr>\n",
       "      <th>1</th>\n",
       "      <td>2</td>\n",
       "      <td>1035000.0</td>\n",
       "      <td>2.5</td>\n",
       "      <td>3067.0</td>\n",
       "      <td>2.0</td>\n",
       "      <td>1.0</td>\n",
       "      <td>0.0</td>\n",
       "      <td>156.0</td>\n",
       "      <td>79.0</td>\n",
       "      <td>1900.0</td>\n",
       "      <td>-37.80790</td>\n",
       "      <td>144.99340</td>\n",
       "      <td>4019.0</td>\n",
       "    </tr>\n",
       "    <tr>\n",
       "      <th>2</th>\n",
       "      <td>3</td>\n",
       "      <td>1465000.0</td>\n",
       "      <td>2.5</td>\n",
       "      <td>3067.0</td>\n",
       "      <td>3.0</td>\n",
       "      <td>2.0</td>\n",
       "      <td>0.0</td>\n",
       "      <td>134.0</td>\n",
       "      <td>150.0</td>\n",
       "      <td>1900.0</td>\n",
       "      <td>-37.80930</td>\n",
       "      <td>144.99440</td>\n",
       "      <td>4019.0</td>\n",
       "    </tr>\n",
       "    <tr>\n",
       "      <th>4</th>\n",
       "      <td>4</td>\n",
       "      <td>1600000.0</td>\n",
       "      <td>2.5</td>\n",
       "      <td>3067.0</td>\n",
       "      <td>3.0</td>\n",
       "      <td>1.0</td>\n",
       "      <td>2.0</td>\n",
       "      <td>120.0</td>\n",
       "      <td>142.0</td>\n",
       "      <td>2014.0</td>\n",
       "      <td>-37.80720</td>\n",
       "      <td>144.99410</td>\n",
       "      <td>4019.0</td>\n",
       "    </tr>\n",
       "    <tr>\n",
       "      <th>6</th>\n",
       "      <td>3</td>\n",
       "      <td>1876000.0</td>\n",
       "      <td>2.5</td>\n",
       "      <td>3067.0</td>\n",
       "      <td>4.0</td>\n",
       "      <td>2.0</td>\n",
       "      <td>0.0</td>\n",
       "      <td>245.0</td>\n",
       "      <td>210.0</td>\n",
       "      <td>1910.0</td>\n",
       "      <td>-37.80240</td>\n",
       "      <td>144.99930</td>\n",
       "      <td>4019.0</td>\n",
       "    </tr>\n",
       "    <tr>\n",
       "      <th>7</th>\n",
       "      <td>2</td>\n",
       "      <td>1636000.0</td>\n",
       "      <td>2.5</td>\n",
       "      <td>3067.0</td>\n",
       "      <td>2.0</td>\n",
       "      <td>1.0</td>\n",
       "      <td>2.0</td>\n",
       "      <td>256.0</td>\n",
       "      <td>107.0</td>\n",
       "      <td>1890.0</td>\n",
       "      <td>-37.80600</td>\n",
       "      <td>144.99540</td>\n",
       "      <td>4019.0</td>\n",
       "    </tr>\n",
       "    <tr>\n",
       "      <th>...</th>\n",
       "      <td>...</td>\n",
       "      <td>...</td>\n",
       "      <td>...</td>\n",
       "      <td>...</td>\n",
       "      <td>...</td>\n",
       "      <td>...</td>\n",
       "      <td>...</td>\n",
       "      <td>...</td>\n",
       "      <td>...</td>\n",
       "      <td>...</td>\n",
       "      <td>...</td>\n",
       "      <td>...</td>\n",
       "      <td>...</td>\n",
       "    </tr>\n",
       "    <tr>\n",
       "      <th>13572</th>\n",
       "      <td>2</td>\n",
       "      <td>650000.0</td>\n",
       "      <td>14.5</td>\n",
       "      <td>3087.0</td>\n",
       "      <td>2.0</td>\n",
       "      <td>1.0</td>\n",
       "      <td>1.0</td>\n",
       "      <td>210.0</td>\n",
       "      <td>79.0</td>\n",
       "      <td>2006.0</td>\n",
       "      <td>-37.70657</td>\n",
       "      <td>145.07878</td>\n",
       "      <td>2329.0</td>\n",
       "    </tr>\n",
       "    <tr>\n",
       "      <th>13573</th>\n",
       "      <td>4</td>\n",
       "      <td>635000.0</td>\n",
       "      <td>14.7</td>\n",
       "      <td>3030.0</td>\n",
       "      <td>4.0</td>\n",
       "      <td>2.0</td>\n",
       "      <td>1.0</td>\n",
       "      <td>662.0</td>\n",
       "      <td>172.0</td>\n",
       "      <td>1980.0</td>\n",
       "      <td>-37.89327</td>\n",
       "      <td>144.64789</td>\n",
       "      <td>16166.0</td>\n",
       "    </tr>\n",
       "    <tr>\n",
       "      <th>13576</th>\n",
       "      <td>3</td>\n",
       "      <td>1031000.0</td>\n",
       "      <td>6.8</td>\n",
       "      <td>3016.0</td>\n",
       "      <td>3.0</td>\n",
       "      <td>2.0</td>\n",
       "      <td>2.0</td>\n",
       "      <td>333.0</td>\n",
       "      <td>133.0</td>\n",
       "      <td>1995.0</td>\n",
       "      <td>-37.85927</td>\n",
       "      <td>144.87904</td>\n",
       "      <td>6380.0</td>\n",
       "    </tr>\n",
       "    <tr>\n",
       "      <th>13578</th>\n",
       "      <td>4</td>\n",
       "      <td>2500000.0</td>\n",
       "      <td>6.8</td>\n",
       "      <td>3016.0</td>\n",
       "      <td>4.0</td>\n",
       "      <td>1.0</td>\n",
       "      <td>5.0</td>\n",
       "      <td>866.0</td>\n",
       "      <td>157.0</td>\n",
       "      <td>1920.0</td>\n",
       "      <td>-37.85908</td>\n",
       "      <td>144.89299</td>\n",
       "      <td>6380.0</td>\n",
       "    </tr>\n",
       "    <tr>\n",
       "      <th>13579</th>\n",
       "      <td>4</td>\n",
       "      <td>1285000.0</td>\n",
       "      <td>6.3</td>\n",
       "      <td>3013.0</td>\n",
       "      <td>4.0</td>\n",
       "      <td>1.0</td>\n",
       "      <td>1.0</td>\n",
       "      <td>362.0</td>\n",
       "      <td>112.0</td>\n",
       "      <td>1920.0</td>\n",
       "      <td>-37.81188</td>\n",
       "      <td>144.88449</td>\n",
       "      <td>6543.0</td>\n",
       "    </tr>\n",
       "  </tbody>\n",
       "</table>\n",
       "<p>6830 rows × 13 columns</p>\n",
       "</div>"
      ],
      "text/plain": [
       "       Rooms      Price  Distance  Postcode  Bedroom2  Bathroom  Car  \\\n",
       "1          2  1035000.0       2.5    3067.0       2.0       1.0  0.0   \n",
       "2          3  1465000.0       2.5    3067.0       3.0       2.0  0.0   \n",
       "4          4  1600000.0       2.5    3067.0       3.0       1.0  2.0   \n",
       "6          3  1876000.0       2.5    3067.0       4.0       2.0  0.0   \n",
       "7          2  1636000.0       2.5    3067.0       2.0       1.0  2.0   \n",
       "...      ...        ...       ...       ...       ...       ...  ...   \n",
       "13572      2   650000.0      14.5    3087.0       2.0       1.0  1.0   \n",
       "13573      4   635000.0      14.7    3030.0       4.0       2.0  1.0   \n",
       "13576      3  1031000.0       6.8    3016.0       3.0       2.0  2.0   \n",
       "13578      4  2500000.0       6.8    3016.0       4.0       1.0  5.0   \n",
       "13579      4  1285000.0       6.3    3013.0       4.0       1.0  1.0   \n",
       "\n",
       "       Landsize  BuildingArea  YearBuilt  Lattitude  Longtitude  Propertycount  \n",
       "1         156.0          79.0     1900.0  -37.80790   144.99340         4019.0  \n",
       "2         134.0         150.0     1900.0  -37.80930   144.99440         4019.0  \n",
       "4         120.0         142.0     2014.0  -37.80720   144.99410         4019.0  \n",
       "6         245.0         210.0     1910.0  -37.80240   144.99930         4019.0  \n",
       "7         256.0         107.0     1890.0  -37.80600   144.99540         4019.0  \n",
       "...         ...           ...        ...        ...         ...            ...  \n",
       "13572     210.0          79.0     2006.0  -37.70657   145.07878         2329.0  \n",
       "13573     662.0         172.0     1980.0  -37.89327   144.64789        16166.0  \n",
       "13576     333.0         133.0     1995.0  -37.85927   144.87904         6380.0  \n",
       "13578     866.0         157.0     1920.0  -37.85908   144.89299         6380.0  \n",
       "13579     362.0         112.0     1920.0  -37.81188   144.88449         6543.0  \n",
       "\n",
       "[6830 rows x 13 columns]"
      ]
     },
     "execution_count": 31,
     "metadata": {},
     "output_type": "execute_result"
    }
   ],
   "source": [
    "# Dropping Rows with the Null values\n",
    "\n",
    "melb_data.dropna(inplace=True)\n",
    "melb_data"
   ]
  },
  {
   "cell_type": "markdown",
   "id": "4b3d0419",
   "metadata": {},
   "source": [
    "### Apply the feature selection techniques over the melbourne-housing -dataset namely"
   ]
  },
  {
   "cell_type": "code",
   "execution_count": 32,
   "id": "a7cd59a6",
   "metadata": {},
   "outputs": [],
   "source": [
    "X = melb_data.drop(['Price'], axis=1)\n",
    "y = melb_data.Price\n",
    "\n",
    "#Normalize data\n",
    "X=(X-X.min())/(X.max()-X.min())"
   ]
  },
  {
   "cell_type": "code",
   "execution_count": 33,
   "id": "dddab789",
   "metadata": {},
   "outputs": [],
   "source": [
    "# Function to calculate correlation\n",
    "def calculate_correlation(X, y):\n",
    "    corr_scores = X.corrwith(y).abs()\n",
    "    return corr_scores\n",
    "\n",
    "# Function to calculate Chi-Square \n",
    "def calculate_chi_square(X, y):\n",
    "    selector = SelectKBest(score_func=chi2, k=6)\n",
    "    new_data = selector.fit_transform(X, y)\n",
    "    # Get the Chi-Square scores for each feature\n",
    "    chi2_scores = selector.scores_\n",
    "    return chi2_scores\n",
    "\n",
    "# Function to calculate Mutual Information\n",
    "def calculate_mutual_info(X, y):\n",
    "    selector = SelectKBest(score_func=mutual_info_classif, k=6)\n",
    "    new_data = selector.fit_transform(X, y)\n",
    "    # Get the MI scores for each feature\n",
    "    mi_scores = selector.scores_\n",
    "    return mi_scores\n",
    "\n",
    "# Function to calculate Random Forest feature importance\n",
    "def calculate_random_forest_importance(X, y):\n",
    "    rf = RandomForestRegressor(n_estimators=100, random_state=42)\n",
    "    rf.fit(X, y)\n",
    "    importances = rf.feature_importances_\n",
    "    return importances\n"
   ]
  },
  {
   "cell_type": "markdown",
   "id": "301385b6",
   "metadata": {},
   "source": [
    "### Correlation"
   ]
  },
  {
   "cell_type": "code",
   "execution_count": 34,
   "id": "01e23613",
   "metadata": {},
   "outputs": [
    {
     "name": "stdout",
     "output_type": "stream",
     "text": [
      "Best Features based on Correlation:\n",
      "BuildingArea     0.520492\n",
      "Rooms            0.517718\n",
      "Bedroom2         0.500452\n",
      "Bathroom         0.492481\n",
      "YearBuilt        0.307343\n",
      "Car              0.250916\n",
      "Lattitude        0.216919\n",
      "Longtitude       0.209786\n",
      "Distance         0.164975\n",
      "Postcode         0.109343\n",
      "Landsize         0.073536\n",
      "Propertycount    0.053336\n",
      "dtype: float64\n"
     ]
    },
    {
     "data": {
      "image/png": "[encoded data removed]",
      "text/plain": [
       "<Figure size 1000x600 with 1 Axes>"
      ]
     },
     "metadata": {},
     "output_type": "display_data"
    }
   ],
   "source": [
    "# Calculate scores using Correlation technique\n",
    "corr_scores = calculate_correlation(X, y)    \n",
    "\n",
    "# Sort features by their correlation with the target variable\n",
    "sorted_features = corr_scores.sort_values(ascending=False)\n",
    "\n",
    "# Print the best features\n",
    "print(\"Best Features based on Correlation:\")\n",
    "print(sorted_features)\n",
    "\n",
    "# Create a bar plot using Seaborn\n",
    "plt.figure(figsize=(10, 6))\n",
    "sns.barplot(x=sorted_features.values, y=sorted_features.index, palette='Blues')\n",
    "plt.xlabel('Absolute Correlation Coefficient')\n",
    "plt.ylabel('Features')\n",
    "plt.title(f'Features Based on Correlation with Price')\n",
    "plt.show()"
   ]
  },
  {
   "cell_type": "markdown",
   "id": "2566a825",
   "metadata": {},
   "source": [
    "###  Chi-Square"
   ]
  },
  {
   "cell_type": "code",
   "execution_count": 35,
   "id": "37864b41",
   "metadata": {},
   "outputs": [
    {
     "name": "stdout",
     "output_type": "stream",
     "text": [
      "          Feature  Chi-Squared Score\n",
      "8       YearBuilt           5.234159\n",
      "9       Lattitude          45.449567\n",
      "10     Longtitude          49.932109\n",
      "6        Landsize          67.332859\n",
      "7    BuildingArea          71.722195\n",
      "5             Car         116.091970\n",
      "3        Bedroom2         118.235687\n",
      "1        Distance         134.279958\n",
      "2        Postcode         142.761512\n",
      "11  Propertycount         207.073015\n",
      "0           Rooms         236.868649\n",
      "4        Bathroom         376.029073\n"
     ]
    },
    {
     "data": {
      "image/png": "[encoded data removed]",
      "text/plain": [
       "<Figure size 1000x600 with 1 Axes>"
      ]
     },
     "metadata": {},
     "output_type": "display_data"
    }
   ],
   "source": [
    "# Calculate scores using chi2 Square technique\n",
    "\n",
    "chi2_scores = calculate_chi_square(X, y)\n",
    "feature_scores = pd.DataFrame({\n",
    "    'Feature': X.columns,\n",
    "    'Chi-Squared Score': chi2_scores\n",
    "})\n",
    "\n",
    "# Sort the DataFrame by Chi-Squared Score \n",
    "feature_scores = feature_scores.sort_values(by='Chi-Squared Score', ascending=True)\n",
    "\n",
    "print(feature_scores)\n",
    "\n",
    "# Create a horizontal bar chart using Seaborn\n",
    "plt.figure(figsize=(10, 6))\n",
    "sns.barplot(x='Chi-Squared Score', y='Feature', data=feature_scores, palette='Blues')\n",
    "plt.xlabel('Chi-Squared Score')\n",
    "plt.title('Features Selected by SelectKBest (Chi-Squared)')\n",
    "plt.gca().invert_yaxis()  # Invert the y-axis to display the highest score at the top\n",
    "plt.show()"
   ]
  },
  {
   "cell_type": "markdown",
   "id": "70a73ee4",
   "metadata": {},
   "source": [
    "### Mutual-Information"
   ]
  },
  {
   "cell_type": "code",
   "execution_count": 36,
   "id": "33470e2d",
   "metadata": {},
   "outputs": [
    {
     "name": "stdout",
     "output_type": "stream",
     "text": [
      "          Feature  Mutual Information Score\n",
      "11  Propertycount                  0.053668\n",
      "1        Distance                  0.067176\n",
      "10     Longtitude                  0.109382\n",
      "2        Postcode                  0.110817\n",
      "9       Lattitude                  0.122020\n",
      "6        Landsize                  0.138852\n",
      "8       YearBuilt                  0.178048\n",
      "4        Bathroom                  0.369838\n",
      "7    BuildingArea                  0.397325\n",
      "5             Car                  0.526271\n",
      "0           Rooms                  0.574003\n",
      "3        Bedroom2                  0.581685\n"
     ]
    },
    {
     "data": {
      "image/png": "[encoded data removed]",
      "text/plain": [
       "<Figure size 1000x600 with 1 Axes>"
      ]
     },
     "metadata": {},
     "output_type": "display_data"
    }
   ],
   "source": [
    "# Calculate scores using Mutual information technique\n",
    "\n",
    "mi_scores = calculate_mutual_info(X, y)\n",
    "\n",
    "# Create a DataFrame to store feature scores\n",
    "feature_scores = pd.DataFrame({\n",
    "    'Feature': X.columns,\n",
    "    'Mutual Information Score': mi_scores\n",
    "})\n",
    "\n",
    "# Sort the DataFrame by Mutual Information Score \n",
    "feature_scores = feature_scores.sort_values(by='Mutual Information Score', ascending=True)\n",
    "\n",
    "print(feature_scores)\n",
    "\n",
    "# Create a horizontal bar chart using Seaborn\n",
    "plt.figure(figsize=(10, 6))\n",
    "sns.barplot(x='Mutual Information Score', y='Feature', data=feature_scores, palette='Blues')\n",
    "plt.xlabel('Mutual Information Score')\n",
    "plt.title('Features Selected by SelectKBest (Mutual Information)')\n",
    "plt.gca().invert_yaxis()  # Invert the y-axis to display the highest score at the top\n",
    "plt.show()"
   ]
  },
  {
   "cell_type": "markdown",
   "id": "5622970f",
   "metadata": {},
   "source": [
    "### Random Forest feature importance"
   ]
  },
  {
   "cell_type": "code",
   "execution_count": 37,
   "id": "dd27d45b",
   "metadata": {},
   "outputs": [
    {
     "name": "stdout",
     "output_type": "stream",
     "text": [
      "               Importance\n",
      "Car              0.009592\n",
      "Bedroom2         0.010290\n",
      "Bathroom         0.016192\n",
      "Propertycount    0.017296\n",
      "Rooms            0.017709\n",
      "Longtitude       0.049088\n",
      "Lattitude        0.067035\n",
      "Landsize         0.076421\n",
      "Postcode         0.091973\n",
      "YearBuilt        0.114033\n",
      "Distance         0.144832\n",
      "BuildingArea     0.385538\n"
     ]
    },
    {
     "data": {
      "image/png": "[encoded data removed]",
      "text/plain": [
       "<Figure size 1000x600 with 1 Axes>"
      ]
     },
     "metadata": {},
     "output_type": "display_data"
    }
   ],
   "source": [
    "# Calculate scores using RAndom FOrest Regressor technique\n",
    "\n",
    "rf_importances = calculate_random_forest_importance(X, y)\n",
    "\n",
    "# Create a DataFrame to store feature importances\n",
    "feat_importances = pd.DataFrame(rf_importances, index=X.columns, columns=[\"Importance\"])\n",
    "\n",
    "# Sort the DataFrame by Importance \n",
    "feat_importances = feat_importances.sort_values(by=\"Importance\", ascending=True)\n",
    "\n",
    "print(feat_importances)\n",
    "\n",
    "# Create a bar chart using Seaborn for the top 5 features with a custom color\n",
    "plt.figure(figsize=(10, 6))\n",
    "sns.barplot(x=feat_importances[\"Importance\"], y=feat_importances.index, palette='Blues')\n",
    "plt.title('Feature Importance - Random Forest')\n",
    "plt.xlabel('Feature')\n",
    "plt.ylabel('Importance')\n",
    "plt.gca().invert_yaxis() \n",
    "plt.show()"
   ]
  },
  {
   "cell_type": "markdown",
   "id": "10f88b32",
   "metadata": {},
   "source": [
    "###  Compare the importance of selected features using bar chart "
   ]
  },
  {
   "cell_type": "code",
   "execution_count": 38,
   "id": "8027472d",
   "metadata": {},
   "outputs": [],
   "source": [
    "# Create a DataFrame to store feature scores\n",
    "feature_scores = pd.DataFrame({\n",
    "    'Feature': X.columns,\n",
    "    'Correlation': corr_scores,\n",
    "    'Chi-Square': chi2_scores,\n",
    "    'Mutual Information': mi_scores,\n",
    "    'Random Forest Importance': rf_importances\n",
    "})\n",
    "\n",
    "from sklearn.preprocessing import MinMaxScaler\n",
    "\n",
    "# Initialize the MinMaxScaler\n",
    "scaler = MinMaxScaler()\n",
    "\n",
    "# Specify the columns to be scaled\n",
    "columns_to_scale = ['Correlation', 'Chi-Square', 'Mutual Information', 'Random Forest Importance']\n",
    "\n",
    "# Scale the selected columns\n",
    "feature_scores[columns_to_scale] = scaler.fit_transform(feature_scores[columns_to_scale])\n"
   ]
  },
  {
   "cell_type": "markdown",
   "id": "c4c8e05f",
   "metadata": {},
   "source": [
    "#### Here, I applied scaling to ensure that all results, which have different scales and ratios, are normalized for easy and meaningful comparison."
   ]
  },
  {
   "cell_type": "code",
   "execution_count": 39,
   "id": "f02ddc16",
   "metadata": {},
   "outputs": [
    {
     "data": {
      "text/plain": [
       "<Figure size 2000x1800 with 0 Axes>"
      ]
     },
     "metadata": {},
     "output_type": "display_data"
    },
    {
     "data": {
      "image/png": "[encoded data removed]",
      "text/plain": [
       "<Figure size 640x480 with 1 Axes>"
      ]
     },
     "metadata": {},
     "output_type": "display_data"
    }
   ],
   "source": [
    "# Create a bar chart with stacked bars for feature scores\n",
    "plt.figure(figsize=(20, 18))\n",
    "feature_scores.plot(kind='bar', stacked=True, colormap='viridis', alpha=0.75)\n",
    "plt.title('Feature Importance Comparison')\n",
    "plt.xlabel('Features')\n",
    "plt.ylabel('Importance Score')\n",
    "plt.legend(title='Technique')\n",
    "plt.grid(axis='y', linestyle='--', alpha=0.7)\n",
    "plt.xticks(rotation=45, ha='right')\n",
    "\n",
    "# Adding a horizontal line for better visualization\n",
    "plt.axhline(y=0, color='black', linewidth=1)\n",
    "\n",
    "plt.tight_layout()\n",
    "plt.show()\n"
   ]
  },
  {
   "cell_type": "markdown",
   "id": "7b73891c",
   "metadata": {},
   "source": [
    "### Comment on the results obtained from various feature selection techniques and which is the best and worst feature selection selection technique on the given dataset"
   ]
  },
  {
   "cell_type": "markdown",
   "id": "80fdd00b",
   "metadata": {},
   "source": [
    "#### Correlation:\n",
    "\n",
    "Features like BuildingArea, Rooms, Bedroom2, and Bathroom exhibit strong positive correlations with the target variable Price. \n",
    "\n",
    "YearBuilt, Car, Lattitude, and Longtitude also show positive correlations with Price, although they are not as strong as the top features.\n",
    "\n",
    "Some features like Distance, Postcode, Landsize, and Propertycount have weaker positive correlations with Price, suggesting that they may have less influence on property prices."
   ]
  },
  {
   "cell_type": "markdown",
   "id": "7ff053bd",
   "metadata": {},
   "source": [
    "#### Chi-square:\n",
    "\n",
    "The features with the highest Chi-Squared scores, namely Bathroom and Rooms, are the most influential in determining property prices.\n",
    "\n",
    "Several features, including Propertycount, Postcode, Distance, Car, Bedroom2, BuildingArea, Landsize, Longtitude, and Lattitude, exhibit moderate but significant associations with property prices.\n",
    "\n",
    "YearBuilt has the lowest Chi-Squared score, suggesting a weaker association with property prices compared to other features. \n"
   ]
  },
  {
   "cell_type": "markdown",
   "id": "509c1116",
   "metadata": {},
   "source": [
    "#### Mutual Information:\n",
    "\n",
    "Features like the number of bedrooms, rooms, car spaces, and building area are the most informative and influential factors in predicting property prices.\n",
    "\n",
    "Geographic and location-related features, such as latitude, longitude, postcode, and The year of construction (YearBuilt), have a moderate to lower influence on property prices.\n",
    "\n",
    "Distance and property count have the least impact on property prices, according to Mutual Information scores."
   ]
  },
  {
   "cell_type": "markdown",
   "id": "a07c6e31",
   "metadata": {},
   "source": [
    "#### Random Forest\n",
    "\n",
    "The results indicate that BuildingArea, Distance, YearBuilt, Postcode, Landsize, and geographic coordinates (Lattitude and Longtitude) are among the most influential factors in determining property prices.\n",
    "\n",
    "Rooms,property count , athroom and Bedroom2 have the least impact on property prices."
   ]
  },
  {
   "cell_type": "code",
   "execution_count": 40,
   "id": "964feb96",
   "metadata": {},
   "outputs": [
    {
     "name": "stdout",
     "output_type": "stream",
     "text": [
      "The best feature selection technique is: Correlation\n",
      "The worst feature selection technique is: Random Forest Importance\n"
     ]
    }
   ],
   "source": [
    "# Find the best and worst feature selection technique\n",
    "\n",
    "numeric_feature_scores = feature_scores.select_dtypes(include=np.number)\n",
    "best_technique = numeric_feature_scores.mean().idxmax()\n",
    "worst_technique = numeric_feature_scores.mean().idxmin()\n",
    "\n",
    "print(f\"The best feature selection technique is: {best_technique}\")\n",
    "print(f\"The worst feature selection technique is: {worst_technique}\")"
   ]
  },
  {
   "cell_type": "markdown",
   "id": "37845a77",
   "metadata": {},
   "source": [
    "#### For the best and the worst feature selection technique, we can conclude from the result that 'Correlation' would be the best choice for the dataset and 'Random Forest' would be the worst. "
   ]
  }
 ],
 "metadata": {
  "kernelspec": {
   "display_name": "Python 3 (ipykernel)",
   "language": "python",
   "name": "python3"
  },
  "language_info": {
   "codemirror_mode": {
    "name": "ipython",
    "version": 3
   },
   "file_extension": ".py",
   "mimetype": "text/x-python",
   "name": "python",
   "nbconvert_exporter": "python",
   "pygments_lexer": "ipython3",
   "version": "3.9.13"
  }
 },
 "nbformat": 4,
 "nbformat_minor": 5
}
